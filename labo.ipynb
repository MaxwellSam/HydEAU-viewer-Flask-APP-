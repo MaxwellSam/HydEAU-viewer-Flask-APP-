{
 "cells": [
  {
   "cell_type": "code",
   "execution_count": 146,
   "metadata": {},
   "outputs": [],
   "source": [
    "import requests\n",
    "import json\n",
    "# from datetime import date, timedelta"
   ]
  },
  {
   "cell_type": "code",
   "execution_count": 147,
   "metadata": {},
   "outputs": [],
   "source": [
    "# url = \"https://hubeau.eaufrance.fr/api/v1/hydrometrie/observations_tr?fields=code_station,date_obs,date_prod,grandeur_hydro,resultat_obs&code_entite=O965000101&grandeur_hydro=H&timestep=10&date_debut_obs=2022-02-18\"\n",
    "url = \"https://hubeau.eaufrance.fr/api/v1/hydrometrie/observations_tr?code_entite=P927401001&grandeur_hydro=Q&size=20\""
   ]
  },
  {
   "cell_type": "code",
   "execution_count": 148,
   "metadata": {},
   "outputs": [
    {
     "name": "stdout",
     "output_type": "stream",
     "text": [
      "[{0: 'a'}, {1: 'b'}, {3: 'c'}, {4: 'd'}]\n"
     ]
    }
   ],
   "source": [
    "A = [{0:\"a\"},{1:\"b\"}]\n",
    "B = [{3:\"c\"},{4:\"d\"}]\n",
    "\n",
    "A+=B\n",
    "print(A)"
   ]
  },
  {
   "cell_type": "code",
   "execution_count": 149,
   "metadata": {},
   "outputs": [],
   "source": [
    "def getData(url):\n",
    "    try: \n",
    "        response = requests.get(url, verify=False)\n",
    "    except requests.exceptions.RequestException as e:\n",
    "        print(\"Error requests:\", e)\n",
    "    file = json.loads(response.text)\n",
    "    # return file\n",
    "    data = file[\"data\"]\n",
    "    # return data\n",
    "    next = file[\"next\"]\n",
    "    # return next\n",
    "    cpt = 0\n",
    "    if next != None:\n",
    "        while next != None:\n",
    "            try:\n",
    "                response_next = requests.get(next, verify=False)\n",
    "            except requests.exceptions.RequestException as e:\n",
    "                print(\"Error requests \\'next\\'\", e)\n",
    "            cpt+=1 \n",
    "            # return response_next.text       \n",
    "            file_next = json.loads(response_next.text) \n",
    "            # return len(data)# len(data + file_next[\"data\"])\n",
    "            # return file_next\n",
    "            data_next = file_next[\"data\"]\n",
    "            data += data_next\n",
    "            next = file_next['next']\n",
    "        print(\"cpt = \"+str(cpt))\n",
    "        # return data\n",
    "        return {i:data[i] for i in range(len(data))}"
   ]
  },
  {
   "cell_type": "code",
   "execution_count": 150,
   "metadata": {},
   "outputs": [
    {
     "name": "stderr",
     "output_type": "stream",
     "text": [
      "C:\\Users\\PHB994\\AppData\\Local\\Programs\\Python\\Python310\\lib\\site-packages\\urllib3\\connectionpool.py:1043: InsecureRequestWarning: Unverified HTTPS request is being made to host 'hubeau.eaufrance.fr'. Adding certificate verification is strongly advised. See: https://urllib3.readthedocs.io/en/1.26.x/advanced-usage.html#ssl-warnings\n",
      "  warnings.warn(\n",
      "C:\\Users\\PHB994\\AppData\\Local\\Programs\\Python\\Python310\\lib\\site-packages\\urllib3\\connectionpool.py:1043: InsecureRequestWarning: Unverified HTTPS request is being made to host 'hubeau.eaufrance.fr'. Adding certificate verification is strongly advised. See: https://urllib3.readthedocs.io/en/1.26.x/advanced-usage.html#ssl-warnings\n",
      "  warnings.warn(\n"
     ]
    }
   ],
   "source": [
    "data = getData(url)"
   ]
  },
  {
   "cell_type": "code",
   "execution_count": 151,
   "metadata": {},
   "outputs": [
    {
     "data": {
      "text/plain": [
       "20"
      ]
     },
     "execution_count": 151,
     "metadata": {},
     "output_type": "execute_result"
    }
   ],
   "source": [
    "data"
   ]
  },
  {
   "cell_type": "code",
   "execution_count": 152,
   "metadata": {},
   "outputs": [
    {
     "name": "stdout",
     "output_type": "stream",
     "text": [
      "20\n"
     ]
    }
   ],
   "source": [
    "print(data)"
   ]
  },
  {
   "cell_type": "code",
   "execution_count": null,
   "metadata": {},
   "outputs": [],
   "source": []
  }
 ],
 "metadata": {
  "interpreter": {
   "hash": "8ea48d29d19dcaf7177aa97b4cbc49590d7d1e1940c26722e4c4111f58362753"
  },
  "kernelspec": {
   "display_name": "Python 3.10.2 64-bit",
   "language": "python",
   "name": "python3"
  },
  "language_info": {
   "codemirror_mode": {
    "name": "ipython",
    "version": 3
   },
   "file_extension": ".py",
   "mimetype": "text/x-python",
   "name": "python",
   "nbconvert_exporter": "python",
   "pygments_lexer": "ipython3",
   "version": "3.10.2"
  },
  "orig_nbformat": 4
 },
 "nbformat": 4,
 "nbformat_minor": 2
}
